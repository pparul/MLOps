{
 "cells": [
  {
   "cell_type": "code",
   "execution_count": 5,
   "metadata": {},
   "outputs": [],
   "source": [
    "import numpy as np\n",
    "import pandas as pd\n",
    "import matplotlib.pyplot as plt\n",
    "from sklearn.datasets import fetch_california_housing\n",
    "import great_expectations as ge"
   ]
  },
  {
   "cell_type": "code",
   "execution_count": 8,
   "metadata": {},
   "outputs": [
    {
     "name": "stdout",
     "output_type": "stream",
     "text": [
      "['MedInc', 'HouseAge', 'AveRooms', 'AveBedrms', 'Population', 'AveOccup', 'Latitude', 'Longitude']\n"
     ]
    }
   ],
   "source": [
    "housing_data = fetch_california_housing()\n",
    "responseName = housing_data.target_names\n",
    "featName = housing_data.feature_names\n",
    "selcFeatName = [\"MedInc\", \"AveOccup\", \"HouseAge\", \"AveRooms\"]\n",
    "\n",
    "X = pd.DataFrame(housing_data.data, columns=featName)\n",
    "y_f = pd.DataFrame(housing_data.target, columns=responseName)\n",
    "\n",
    "original_df = pd.concat([X,y_f], axis = 1)\n",
    "df = ge.dataset.PandasDataset(original_df)\n",
    "print(featName)"
   ]
  },
  {
   "cell_type": "code",
   "execution_count": 14,
   "metadata": {},
   "outputs": [
    {
     "data": {
      "text/plain": [
       "{\n",
       "  \"success\": true,\n",
       "  \"result\": {\n",
       "    \"element_count\": 20640,\n",
       "    \"unexpected_count\": 0,\n",
       "    \"unexpected_percent\": 0.0,\n",
       "    \"unexpected_percent_total\": 0.0,\n",
       "    \"partial_unexpected_list\": []\n",
       "  },\n",
       "  \"meta\": {},\n",
       "  \"exception_info\": {\n",
       "    \"raised_exception\": false,\n",
       "    \"exception_traceback\": null,\n",
       "    \"exception_message\": null\n",
       "  }\n",
       "}"
      ]
     },
     "execution_count": 14,
     "metadata": {},
     "output_type": "execute_result"
    }
   ],
   "source": [
    "df.expect_column_values_to_not_be_null(column=\"MedInc\")"
   ]
  },
  {
   "cell_type": "code",
   "execution_count": 20,
   "metadata": {},
   "outputs": [
    {
     "data": {
      "text/plain": [
       "{\n",
       "  \"success\": false,\n",
       "  \"result\": {\n",
       "    \"observed_value\": \"float64\"\n",
       "  },\n",
       "  \"meta\": {},\n",
       "  \"exception_info\": {\n",
       "    \"raised_exception\": false,\n",
       "    \"exception_traceback\": null,\n",
       "    \"exception_message\": null\n",
       "  }\n",
       "}"
      ]
     },
     "execution_count": 20,
     "metadata": {},
     "output_type": "execute_result"
    }
   ],
   "source": [
    "df.expect_column_values_to_be_of_type(column=\"AveRooms\", type_=\"str\")"
   ]
  },
  {
   "cell_type": "code",
   "execution_count": 21,
   "metadata": {},
   "outputs": [
    {
     "data": {
      "text/plain": [
       "{\n",
       "  \"success\": false,\n",
       "  \"results\": [\n",
       "    {\n",
       "      \"success\": false,\n",
       "      \"expectation_config\": {\n",
       "        \"expectation_type\": \"expect_column_values_to_be_of_type\",\n",
       "        \"kwargs\": {\n",
       "          \"column\": \"AveRooms\",\n",
       "          \"type_\": \"str\"\n",
       "        },\n",
       "        \"meta\": {}\n",
       "      },\n",
       "      \"result\": {\n",
       "        \"observed_value\": \"float64\"\n",
       "      },\n",
       "      \"meta\": {},\n",
       "      \"exception_info\": {\n",
       "        \"raised_exception\": false,\n",
       "        \"exception_message\": null,\n",
       "        \"exception_traceback\": null\n",
       "      }\n",
       "    }\n",
       "  ],\n",
       "  \"evaluation_parameters\": {},\n",
       "  \"statistics\": {\n",
       "    \"evaluated_expectations\": 2,\n",
       "    \"successful_expectations\": 1,\n",
       "    \"unsuccessful_expectations\": 1,\n",
       "    \"success_percent\": 50.0\n",
       "  },\n",
       "  \"meta\": {\n",
       "    \"great_expectations_version\": \"0.17.23\",\n",
       "    \"expectation_suite_name\": \"default\",\n",
       "    \"run_id\": {\n",
       "      \"run_name\": null,\n",
       "      \"run_time\": \"2023-10-24T16:27:04.873336-07:00\"\n",
       "    },\n",
       "    \"batch_kwargs\": {\n",
       "      \"ge_batch_id\": \"a104df40-72c3-11ee-813b-622225cbff77\"\n",
       "    },\n",
       "    \"batch_markers\": {},\n",
       "    \"batch_parameters\": {},\n",
       "    \"validation_time\": \"20231024T232704.873275Z\",\n",
       "    \"expectation_suite_meta\": {\n",
       "      \"great_expectations_version\": \"0.17.23\"\n",
       "    }\n",
       "  }\n",
       "}"
      ]
     },
     "execution_count": 21,
     "metadata": {},
     "output_type": "execute_result"
    }
   ],
   "source": [
    "expectation_suite = df.get_expectation_suite(discard_failed_expectations=False)\n",
    "df.validate(expectation_suite=expectation_suite, only_return_failures=True)"
   ]
  },
  {
   "cell_type": "code",
   "execution_count": null,
   "metadata": {},
   "outputs": [],
   "source": [
    "expectation_suite = df.get_expectation_suite(discard_failed_expectations=False)\n",
    "df.validate(expectation_suite=expectation_suite, only_return_failures=True)"
   ]
  }
 ],
 "metadata": {
  "kernelspec": {
   "display_name": "Python 3",
   "language": "python",
   "name": "python3"
  },
  "language_info": {
   "codemirror_mode": {
    "name": "ipython",
    "version": 3
   },
   "file_extension": ".py",
   "mimetype": "text/x-python",
   "name": "python",
   "nbconvert_exporter": "python",
   "pygments_lexer": "ipython3",
   "version": "3.10.9"
  }
 },
 "nbformat": 4,
 "nbformat_minor": 2
}
