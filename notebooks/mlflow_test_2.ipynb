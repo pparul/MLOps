{
 "cells": [
  {
   "cell_type": "code",
   "execution_count": 1,
   "metadata": {},
   "outputs": [
    {
     "name": "stderr",
     "output_type": "stream",
     "text": [
      "/Users/parulpandey/Library/Caches/pypoetry/virtualenvs/mlops-o2AA7A-S-py3.10/lib/python3.10/site-packages/pydantic/_internal/_fields.py:128: UserWarning: Field \"model_server_url\" has conflict with protected namespace \"model_\".\n",
      "\n",
      "You may be able to resolve this warning by setting `model_config['protected_namespaces'] = ()`.\n",
      "  warnings.warn(\n",
      "/Users/parulpandey/Library/Caches/pypoetry/virtualenvs/mlops-o2AA7A-S-py3.10/lib/python3.10/site-packages/pydantic/_internal/_config.py:317: UserWarning: Valid config keys have changed in V2:\n",
      "* 'schema_extra' has been renamed to 'json_schema_extra'\n",
      "  warnings.warn(message, UserWarning)\n"
     ]
    }
   ],
   "source": [
    "import mlflow\n",
    "import pandas as pd\n",
    "\n",
    "from sklearn.datasets import load_iris\n",
    "from sklearn.linear_model import LogisticRegression\n",
    "from sklearn.model_selection import train_test_split\n",
    "from sklearn.metrics import accuracy_score, precision_score, recall_score\n"
   ]
  },
  {
   "cell_type": "code",
   "execution_count": 2,
   "metadata": {},
   "outputs": [
    {
     "name": "stdout",
     "output_type": "stream",
     "text": [
      "Train set shape: 120 rows, 4 columns\n",
      "Test set shape: 30 rows, 4 columns\n",
      "Columns names: ['sepal length (cm)', 'sepal width (cm)', 'petal length (cm)', 'petal width (cm)']\n"
     ]
    }
   ],
   "source": [
    "# Load Iris dataset\n",
    "dataset = load_iris()\n",
    "\n",
    "# Split dataset into train and test\n",
    "X_train, X_test, y_train, y_test = train_test_split(dataset.data, dataset.target, test_size=0.2, stratify=dataset.target)\n",
    "\n",
    "# Checkout train and test datasets\n",
    "print(f\"Train set shape: {X_train.shape[0]} rows, {X_train.shape[1]} columns\", )\n",
    "print(f\"Test set shape: {X_test.shape[0]} rows, {X_test.shape[1]} columns\")\n",
    "print(f\"Columns names: {dataset.feature_names}\")\n",
    "\n",
    "# Output:\n",
    "# Train set shape: 120 rows, 4 columns\n",
    "# Test set shape: 30 rows, 4 columns\n",
    "# Columns names: ['sepal length (cm)', 'sepal width (cm)', 'petal length (cm)', 'petal width (cm)']"
   ]
  },
  {
   "cell_type": "code",
   "execution_count": 3,
   "metadata": {},
   "outputs": [],
   "source": [
    "#https://levelup.gitconnected.com/mlflow-made-easy-your-beginners-guide-bf63f8fed915"
   ]
  },
  {
   "cell_type": "code",
   "execution_count": 4,
   "metadata": {},
   "outputs": [
    {
     "name": "stderr",
     "output_type": "stream",
     "text": [
      "2023/11/28 11:45:19 INFO mlflow.tracking.fluent: Experiment with name 'Baseline Model' does not exist. Creating a new experiment.\n",
      "/Users/parulpandey/Library/Caches/pypoetry/virtualenvs/mlops-o2AA7A-S-py3.10/lib/python3.10/site-packages/sklearn/linear_model/_logistic.py:460: ConvergenceWarning: lbfgs failed to converge (status=1):\n",
      "STOP: TOTAL NO. of ITERATIONS REACHED LIMIT.\n",
      "\n",
      "Increase the number of iterations (max_iter) or scale the data as shown in:\n",
      "    https://scikit-learn.org/stable/modules/preprocessing.html\n",
      "Please also refer to the documentation for alternative solver options:\n",
      "    https://scikit-learn.org/stable/modules/linear_model.html#logistic-regression\n",
      "  n_iter_i = _check_optimize_result(\n"
     ]
    }
   ],
   "source": [
    "# Set the experiment for MLflow\n",
    "#mlflow.create_experiment('Baseline Model')\n",
    "\n",
    "mlflow.set_experiment('Baseline Model')\n",
    "\n",
    "# Start an MLflow run context\n",
    "with mlflow.start_run():\n",
    "    # Initialize a LogisticRegression model\n",
    "    model = LogisticRegression()\n",
    "    \n",
    "    # Train the model on the training data\n",
    "    model.fit(X_train, y_train)\n",
    "\n",
    "    # Make predictions on the test data\n",
    "    y_pred = model.predict(X_test)\n",
    "\n",
    "    # Calculate various evaluation metrics\n",
    "    accuracy = accuracy_score(y_test, y_pred)\n",
    "    precision = precision_score(y_test, y_pred, average='macro')\n",
    "    recall = recall_score(y_test, y_pred, average='macro')\n",
    "\n",
    "    # Log the evaluation metrics to the MLflow run\n",
    "    mlflow.log_metric('accuracy', accuracy)\n",
    "    mlflow.log_metric('precision', precision)\n",
    "    mlflow.log_metric('recall', recall)\n",
    "\n",
    "    # Log the trained model to the MLflow run\n",
    "    mlflow.sklearn.log_model(model, 'model')\n",
    "\n",
    "    # Set developer information as a tag\n",
    "    mlflow.set_tag('developer', 'Sagar Thacker')\n",
    "\n",
    "    # Set preprocessing details as a tag\n",
    "    mlflow.set_tag('preprocessing', 'None')\n",
    "\n",
    "    # Set the model type as a tag\n",
    "    mlflow.set_tag('model', 'Logistic Regression')\n"
   ]
  },
  {
   "cell_type": "code",
   "execution_count": null,
   "metadata": {},
   "outputs": [],
   "source": []
  },
  {
   "cell_type": "code",
   "execution_count": null,
   "metadata": {},
   "outputs": [],
   "source": []
  }
 ],
 "metadata": {
  "kernelspec": {
   "display_name": "mlops-o2AA7A-S-py3.10",
   "language": "python",
   "name": "python3"
  },
  "language_info": {
   "codemirror_mode": {
    "name": "ipython",
    "version": 3
   },
   "file_extension": ".py",
   "mimetype": "text/x-python",
   "name": "python",
   "nbconvert_exporter": "python",
   "pygments_lexer": "ipython3",
   "version": "3.10.9"
  }
 },
 "nbformat": 4,
 "nbformat_minor": 2
}
