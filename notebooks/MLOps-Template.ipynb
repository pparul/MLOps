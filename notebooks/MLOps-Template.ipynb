{
 "cells": [
  {
   "cell_type": "markdown",
   "metadata": {},
   "source": [
    "## Project already exists add poetry to it\n",
    "- Poetry is installed system wide already \n",
    "\n",
    "poetry init\n",
    "- poetry.lock and pyproject.toml created\n",
    "\n",
    "poetry add flake8\n",
    "- Virtual environ are created the first time you install an external pacakge\n",
    "- flake added\n",
    "\n",
    "poetry add pytest\n",
    "- create a separte tests folder\n",
    "\n",
    "poetry add pre-commit\n",
    "- add a .pre-commit-config.yaml file with basic hooks \n",
    "- https://pre-commit.com/\n",
    "\n",
    "pre-commit install\n",
    "\n",
    "git add .\n",
    "git commit -m \"Basic Steps\"\n",
    "- pre-commit hooks run at this point \n",
    "\n",
    "\n",
    "poetry add great_expectations"
   ]
  },
  {
   "cell_type": "markdown",
   "metadata": {},
   "source": []
  },
  {
   "cell_type": "code",
   "execution_count": null,
   "metadata": {},
   "outputs": [],
   "source": [
    "\n",
    "\n",
    "- Typing: giving type to variables \n",
    "- Python:  Docstrings Generator "
   ]
  },
  {
   "cell_type": "code",
   "execution_count": null,
   "metadata": {},
   "outputs": [],
   "source": []
  }
 ],
 "metadata": {
  "language_info": {
   "name": "python"
  }
 },
 "nbformat": 4,
 "nbformat_minor": 2
}
