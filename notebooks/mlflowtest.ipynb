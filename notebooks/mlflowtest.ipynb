{
 "cells": [
  {
   "cell_type": "code",
   "execution_count": 4,
   "metadata": {},
   "outputs": [],
   "source": [
    "import os\n",
    "from random import random, randint\n",
    "import mlflow\n",
    "from mlflow import log_metric, log_param, log_artifacts\n",
    "from mlflow.exceptions import MlflowException"
   ]
  },
  {
   "cell_type": "markdown",
   "metadata": {},
   "source": [
    "## MLFlow\n",
    "https://mlflow.org/docs/latest/tracking.html\n",
    "\n",
    "- Run: MLflow Tracking is organized around the concept of runs, which are executions of some piece of data science code. There is a run ID.\n",
    "    - start_run  \n",
    "\n",
    "\n",
    "- Experiment: In MLflow, an experiment is the primary unit of organization for runs. All runs belong to an experiment. To create an MLflow experiment, you need to specify the Name, Artfact location and tags. \n",
    "    - Name: The name of the experiment, which must be unique and case sensitive\n",
    "    - Artifact location: The location to store run artifacts\n",
    "    - Tags: An optional dictionary of string keys and values to set as tags on the experiment\n",
    "    - Experiment ID: In MLflow, an experiment ID is a string that identifies an experiment. It is returned after you create an experiment. \n",
    "    \n",
    "    Other functions:\n",
    "    - set_experiment ()\n",
    "    - get_experiment_by_name ()\n",
    "    - create_experiment ()   \n",
    "    - delete_experiment()\n",
    "    \n",
    "    \n",
    "\n",
    "- set_tracking_uri: To log runs remotely, set the MLFLOW_TRACKING_URI environment variable to a tracking server’s URI or call mlflow.set_tracking_uri().\n",
    "\n",
    "\n",
    "- Logging:\n",
    "    - log_param, log_metric: saves param in a folder param and each param name is the file name\n",
    "    - log_metric: saves metric value in a folder metric and each metric name is the file name\n",
    "    - log_artifacts: save txt, png etc files in a folder "
   ]
  },
  {
   "cell_type": "code",
   "execution_count": 5,
   "metadata": {},
   "outputs": [],
   "source": [
    "#https://medium.com/@roshmitadey/mastering-machine-learning-model-lifecycle-with-mlflow-ff0e81c5963a\n",
    "#https://levelup.gitconnected.com/mlflow-made-easy-your-beginners-guide-bf63f8fed915"
   ]
  },
  {
   "cell_type": "code",
   "execution_count": 6,
   "metadata": {},
   "outputs": [
    {
     "name": "stdout",
     "output_type": "stream",
     "text": [
      "Experiment ID: 461967510655362903\n",
      "Im here1\n",
      "c7d7560e6cd24081a61ff3a8a5b8f6c7\n",
      "461967510655362903\n",
      "Logging now\n"
     ]
    }
   ],
   "source": [
    "experiment_name=\"test-61107\"\n",
    "#mlflow.set_experiment(experiment_name=experiment_name)\n",
    "mlflow.set_tracking_uri('http://0.0.0.0:1235')\n",
    "\n",
    "try:\n",
    "    experiment = mlflow.get_experiment_by_name(experiment_name)\n",
    "    experiment_id = experiment.experiment_id\n",
    "    print(f'Experiment ID: {experiment_id}')\n",
    "    print('Im here1')\n",
    "except AttributeError:\n",
    "    experiment_id = mlflow.create_experiment(experiment_name)\n",
    "    print(f'Experiment ID: {experiment_id}')\n",
    "    print('Im here2')\n",
    "\n",
    "with mlflow.start_run(experiment_id=experiment_id) as run:\n",
    "    print(run.info.run_id)\n",
    "    print(experiment_id)\n",
    "    print(\"Logging now\")\n",
    "\n",
    "    ## Logs into mlruns folder \n",
    "    log_param(\"param1\", randint(0, 100))\n",
    "    log_metric(\"foo\", 2)\n",
    "    if not os.path.exists(\"outputs\"):\n",
    "        os.makedirs(\"outputs\")\n",
    "    with open(\"outputs/test.txt\", \"w\") as f:\n",
    "        f.write(\"hello world!\")\n",
    "        \n",
    "    ## logs into mlartifacts folder    \n",
    "    log_artifacts(\"outputs\")\n",
    "    mlflow.end_run"
   ]
  },
  {
   "cell_type": "code",
   "execution_count": null,
   "metadata": {},
   "outputs": [],
   "source": []
  }
 ],
 "metadata": {
  "kernelspec": {
   "display_name": "mlops-o2AA7A-S-py3.10",
   "language": "python",
   "name": "python3"
  },
  "language_info": {
   "codemirror_mode": {
    "name": "ipython",
    "version": 3
   },
   "file_extension": ".py",
   "mimetype": "text/x-python",
   "name": "python",
   "nbconvert_exporter": "python",
   "pygments_lexer": "ipython3",
   "version": "3.10.9"
  }
 },
 "nbformat": 4,
 "nbformat_minor": 2
}
