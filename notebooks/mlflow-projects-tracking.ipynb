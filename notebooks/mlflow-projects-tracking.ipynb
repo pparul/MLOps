{
 "cells": [
  {
   "cell_type": "markdown",
   "id": "302447ff-42eb-44e4-b195-e33e9f28bb77",
   "metadata": {},
   "source": [
    "# Tracking experiments with MLflow Tracking"
   ]
  },
  {
   "cell_type": "markdown",
   "id": "93bb387e-7589-4b59-8f4c-c40f4106b4bd",
   "metadata": {},
   "source": [
    "## Importing dependencies"
   ]
  },
  {
   "cell_type": "code",
   "execution_count": 1,
   "id": "567cbd58-77bb-4a9f-be3e-312a5b096b80",
   "metadata": {},
   "outputs": [
    {
     "name": "stderr",
     "output_type": "stream",
     "text": [
      "/Users/parulpandey/Library/Caches/pypoetry/virtualenvs/mlops-o2AA7A-S-py3.10/lib/python3.10/site-packages/pydantic/_internal/_fields.py:128: UserWarning: Field \"model_server_url\" has conflict with protected namespace \"model_\".\n",
      "\n",
      "You may be able to resolve this warning by setting `model_config['protected_namespaces'] = ()`.\n",
      "  warnings.warn(\n",
      "/Users/parulpandey/Library/Caches/pypoetry/virtualenvs/mlops-o2AA7A-S-py3.10/lib/python3.10/site-packages/pydantic/_internal/_config.py:317: UserWarning: Valid config keys have changed in V2:\n",
      "* 'schema_extra' has been renamed to 'json_schema_extra'\n",
      "  warnings.warn(message, UserWarning)\n"
     ]
    }
   ],
   "source": [
    "# Importing dependencies\n",
    "import mlflow\n",
    "from sklearn.linear_model import LogisticRegression\n",
    "from sklearn.model_selection import GridSearchCV, train_test_split\n",
    "from sklearn import datasets\n",
    "from pathlib import Path"
   ]
  },
  {
   "cell_type": "markdown",
   "id": "098e2ecd-aeaa-4c4e-b39b-be80b8a59d75",
   "metadata": {},
   "source": [
    "## Breaking runs down into experiments"
   ]
  },
  {
   "cell_type": "code",
   "execution_count": 2,
   "id": "1fe9c822-eddb-45fe-8fa8-ff0c380ad688",
   "metadata": {},
   "outputs": [],
   "source": [
    "# Creating an experiment\n",
    "experiment_id = mlflow.create_experiment(name=\"test\")"
   ]
  },
  {
   "cell_type": "code",
   "execution_count": 3,
   "id": "6170c25b-35a9-4cfa-921c-568b9bf8f484",
   "metadata": {},
   "outputs": [
    {
     "data": {
      "text/plain": [
       "<Experiment: artifact_location='file:///Users/parulpandey/Documents/MLOps/notebooks/mlruns/175161063379229255', creation_time=1698862094821, experiment_id='175161063379229255', last_update_time=1698862094821, lifecycle_stage='active', name='test', tags={}>"
      ]
     },
     "execution_count": 3,
     "metadata": {},
     "output_type": "execute_result"
    }
   ],
   "source": [
    "# Selecting an existing experiment\n",
    "mlflow.set_experiment(experiment_name=\"test\")"
   ]
  },
  {
   "cell_type": "code",
   "execution_count": 4,
   "id": "0f91e263-90e3-4828-b788-9de8187ce481",
   "metadata": {},
   "outputs": [],
   "source": [
    "# Deleting an experiment\n",
    "mlflow.delete_experiment(experiment_id=experiment_id)"
   ]
  },
  {
   "cell_type": "markdown",
   "id": "313d97b8-de17-4e66-b9ae-657f8b84f1c3",
   "metadata": {},
   "source": [
    "## Logging experiments manually"
   ]
  },
  {
   "cell_type": "code",
   "execution_count": 5,
   "id": "b9ee1961",
   "metadata": {},
   "outputs": [],
   "source": [
    "# MODEL_REGISTRY = Path(\"/Users/parulpandey/Documents/MLOps/artifacts/mlflow\")\n",
    "# Path(MODEL_REGISTRY).mkdir(parents=True, exist_ok=True)\n",
    "# MLFLOW_TRACKING_URI = 'file://'+\"/Users/parulpandey/Documents/MLOps/artifacts/mlflow\"#str(MODEL_REGISTRY.absolute())\n",
    "# mlflow.set_tracking_uri(MLFLOW_TRACKING_URI)\n",
    "# print (mlflow.get_tracking_uri())"
   ]
  },
  {
   "cell_type": "code",
   "execution_count": 6,
   "id": "5f71d415-3178-4b06-b310-ca574f840d30",
   "metadata": {},
   "outputs": [
    {
     "name": "stderr",
     "output_type": "stream",
     "text": [
      "2023/11/01 11:08:14 INFO mlflow.tracking.fluent: Experiment with name 'manual_logging' does not exist. Creating a new experiment.\n"
     ]
    },
    {
     "data": {
      "text/plain": [
       "<Experiment: artifact_location='file:///Users/parulpandey/Documents/MLOps/notebooks/mlruns/887022714727992340', creation_time=1698862094841, experiment_id='887022714727992340', last_update_time=1698862094841, lifecycle_stage='active', name='manual_logging', tags={}>"
      ]
     },
     "execution_count": 6,
     "metadata": {},
     "output_type": "execute_result"
    }
   ],
   "source": [
    "# Setting an experiment for manual logging\n",
    "mlflow.set_experiment(experiment_name=\"manual_logging\")"
   ]
  },
  {
   "cell_type": "code",
   "execution_count": 2,
   "id": "d6ecc6fa-4c24-4e8a-9f40-948276f80964",
   "metadata": {},
   "outputs": [],
   "source": [
    "# Checking if the script is executed directly\n",
    "if __name__ == \"__main__\":\n",
    "    # Loading data\n",
    "    data = datasets.load_breast_cancer()\n",
    "    \n",
    "    # Splitting the data into train and test sets\n",
    "    X_train, X_test, y_train, y_test = train_test_split(data.data, \n",
    "                                                        data.target,\n",
    "                                                        stratify=data.target)\n",
    "    \n",
    "    # Selecting a parameter range to try out\n",
    "    C = list(range(1, 10))\n",
    "try:\n",
    "    experiment = mlflow.get_experiment_by_name('oof')\n",
    "    experiment_id = experiment.experiment_id\n",
    "    print(experiment_id)\n",
    "except AttributeError:\n",
    "    experiment_id = mlflow.create_experiment('oof')\n",
    "\n",
    "#with mlflow.start_run(experiment_id=experiment_id) as run:\n",
    "   \n",
    "    # Starting a tracking run\n",
    "    with mlflow.start_run(run_name=\"PARENT_RUN\",experiment_id=experiment_id):\n",
    "        # For each value of C, running a child run\n",
    "        for param_value in C:\n",
    "            with mlflow.start_run(run_name=\"CHILD_RUN\", nested=True):\n",
    "                # Instantiating and fitting the model\n",
    "                #model = LogisticRegression(C=param_value, max_iter=1000)            \n",
    "                #model.fit(X=X_train, y=y_train)\n",
    "                \n",
    "                # Logging the current value of C\n",
    "                mlflow.log_param(key=\"C\", value=param_value)\n",
    "                \n",
    "                # Logging the test performance of the current model                \n",
    "                mlflow.log_metric(key=\"Score\", value=2) \n",
    "                \n",
    "                # # Saving the model as an artifact\n",
    "                # mlflow.sklearn.log_model(sk_model=2, artifact_path=\"model\")"
   ]
  },
  {
   "cell_type": "markdown",
   "id": "a1e12a30-add3-4edb-aa9c-532d69e27163",
   "metadata": {},
   "source": [
    "## Logging experiments automatically"
   ]
  },
  {
   "cell_type": "code",
   "execution_count": 8,
   "id": "cada70be-dc67-4ba3-a4b3-c572dd1be96a",
   "metadata": {},
   "outputs": [
    {
     "name": "stderr",
     "output_type": "stream",
     "text": [
      "2023/11/01 11:08:14 INFO mlflow.tracking.fluent: Experiment with name 'auto_logging' does not exist. Creating a new experiment.\n"
     ]
    },
    {
     "data": {
      "text/plain": [
       "<Experiment: artifact_location='file:///Users/parulpandey/Documents/MLOps/notebooks/mlruns/667360824054492315', creation_time=1698862094942, experiment_id='667360824054492315', last_update_time=1698862094942, lifecycle_stage='active', name='auto_logging', tags={}>"
      ]
     },
     "execution_count": 8,
     "metadata": {},
     "output_type": "execute_result"
    }
   ],
   "source": [
    "# Setting an experiment for automatic logging\n",
    "mlflow.set_experiment(experiment_name=\"auto_logging\")"
   ]
  }
 ],
 "metadata": {
  "kernelspec": {
   "display_name": "Python 3 (ipykernel)",
   "language": "python",
   "name": "python3"
  },
  "language_info": {
   "codemirror_mode": {
    "name": "ipython",
    "version": 3
   },
   "file_extension": ".py",
   "mimetype": "text/x-python",
   "name": "python",
   "nbconvert_exporter": "python",
   "pygments_lexer": "ipython3",
   "version": "3.10.9"
  }
 },
 "nbformat": 4,
 "nbformat_minor": 5
}
