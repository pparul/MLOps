{
 "cells": [
  {
   "cell_type": "markdown",
   "metadata": {},
   "source": [
    "## Project already exists add poetry to it\n",
    "- Poetry is installed system wide already \n",
    "\n",
    "poetry init\n",
    " # poetry.lock and pyproject.toml created\n",
    "poetry add flake8\n",
    "# flake added\n",
    "poetry add pytest"
   ]
  },
  {
   "cell_type": "code",
   "execution_count": null,
   "metadata": {},
   "outputs": [],
   "source": []
  }
 ],
 "metadata": {
  "language_info": {
   "name": "python"
  }
 },
 "nbformat": 4,
 "nbformat_minor": 2
}
