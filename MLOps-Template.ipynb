{
 "cells": [
  {
   "cell_type": "markdown",
   "metadata": {},
   "source": [
    "## Project already exists add poetry to it\n",
    "- Poetry is installed system wide already \n",
    "\n",
    "poetry init\n",
    " # poetry.lock and pyproject.toml created\n",
    "\n",
    "poetry add flake8\n",
    "# flake added\n",
    "\n",
    "poetry add pytest\n",
    "# \n",
    "\n",
    "poetry add pre-commit\n",
    "# add .pre-commit-config.yaml\n",
    "# https://pre-commit.com/\n",
    "\n",
    "pre-commit install"
   ]
  },
  {
   "cell_type": "code",
   "execution_count": null,
   "metadata": {},
   "outputs": [],
   "source": [
    "- Typing: giving type to variables \n",
    "- Python:  Docstrings Generator "
   ]
  }
 ],
 "metadata": {
  "language_info": {
   "name": "python"
  }
 },
 "nbformat": 4,
 "nbformat_minor": 2
}
